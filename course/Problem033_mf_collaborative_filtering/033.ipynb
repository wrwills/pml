{
  "nbformat": 4,
  "nbformat_minor": 0,
  "metadata": {
    "colab": {
      "name": "Untitled5.ipynb",
      "provenance": [],
      "authorship_tag": "ABX9TyN3xRVHrK0vXyDvywYTWmV+",
      "include_colab_link": true
    },
    "kernelspec": {
      "name": "python3",
      "display_name": "Python 3"
    }
  },
  "cells": [
    {
      "cell_type": "markdown",
      "metadata": {
        "id": "view-in-github",
        "colab_type": "text"
      },
      "source": [
        "<a href=\"https://colab.research.google.com/github/wrwills/pml/blob/master/course/Problem033_mf_collaborative_filtering/033.ipynb\" target=\"_parent\"><img src=\"https://colab.research.google.com/assets/colab-badge.svg\" alt=\"Open In Colab\"/></a>"
      ]
    },
    {
      "cell_type": "markdown",
      "metadata": {
        "id": "diJnHEwuzrYB"
      },
      "source": [
        "## Matrix Factorisation\n",
        "\n",
        "![](https://miro.medium.com/max/1400/1*kxAP7W7aOGdcgpTFUMgSfg.jpeg \"Logo Title Text 1\")\n"
      ]
    },
    {
      "cell_type": "code",
      "metadata": {
        "colab": {
          "base_uri": "https://localhost:8080/",
          "height": 204
        },
        "id": "yPUYUVsPzki4",
        "outputId": "e17381b0-f778-4006-b959-2a889c1224e3"
      },
      "source": [
        "from numpy import array\n",
        "from numpy import diag\n",
        "from numpy import dot\n",
        "from numpy import zeros\n",
        "from scipy.linalg import svd\n",
        "import numpy as np\n",
        "\n",
        "from scipy.sparse.linalg import svds\n",
        "\n",
        "import pandas as pd\n",
        "\n",
        "def display_matrix(data):\n",
        "  df = pd.DataFrame(data) \n",
        "  df.rename(columns=lambda x: \"item\" + str(x + 1), inplace=True)\n",
        "  df.rename(index = lambda x: \"user\" + str(x + 1), inplace=True)\n",
        "  return df\n",
        "\n",
        "A = [\n",
        "    [3,1,1,3,1],\n",
        "    [1,2,4,1,3],\n",
        "    [3,1,1,3,1],\n",
        "    [4,3,5,4,4],\n",
        "    [1,5,5,1,5]\n",
        "]\n",
        "\n",
        "display_matrix(A)\n"
      ],
      "execution_count": 1,
      "outputs": [
        {
          "output_type": "execute_result",
          "data": {
            "text/html": [
              "<div>\n",
              "<style scoped>\n",
              "    .dataframe tbody tr th:only-of-type {\n",
              "        vertical-align: middle;\n",
              "    }\n",
              "\n",
              "    .dataframe tbody tr th {\n",
              "        vertical-align: top;\n",
              "    }\n",
              "\n",
              "    .dataframe thead th {\n",
              "        text-align: right;\n",
              "    }\n",
              "</style>\n",
              "<table border=\"1\" class=\"dataframe\">\n",
              "  <thead>\n",
              "    <tr style=\"text-align: right;\">\n",
              "      <th></th>\n",
              "      <th>item1</th>\n",
              "      <th>item2</th>\n",
              "      <th>item3</th>\n",
              "      <th>item4</th>\n",
              "      <th>item5</th>\n",
              "    </tr>\n",
              "  </thead>\n",
              "  <tbody>\n",
              "    <tr>\n",
              "      <th>user1</th>\n",
              "      <td>3</td>\n",
              "      <td>1</td>\n",
              "      <td>1</td>\n",
              "      <td>3</td>\n",
              "      <td>1</td>\n",
              "    </tr>\n",
              "    <tr>\n",
              "      <th>user2</th>\n",
              "      <td>1</td>\n",
              "      <td>2</td>\n",
              "      <td>4</td>\n",
              "      <td>1</td>\n",
              "      <td>3</td>\n",
              "    </tr>\n",
              "    <tr>\n",
              "      <th>user3</th>\n",
              "      <td>3</td>\n",
              "      <td>1</td>\n",
              "      <td>1</td>\n",
              "      <td>3</td>\n",
              "      <td>1</td>\n",
              "    </tr>\n",
              "    <tr>\n",
              "      <th>user4</th>\n",
              "      <td>4</td>\n",
              "      <td>3</td>\n",
              "      <td>5</td>\n",
              "      <td>4</td>\n",
              "      <td>4</td>\n",
              "    </tr>\n",
              "    <tr>\n",
              "      <th>user5</th>\n",
              "      <td>1</td>\n",
              "      <td>5</td>\n",
              "      <td>5</td>\n",
              "      <td>1</td>\n",
              "      <td>5</td>\n",
              "    </tr>\n",
              "  </tbody>\n",
              "</table>\n",
              "</div>"
            ],
            "text/plain": [
              "       item1  item2  item3  item4  item5\n",
              "user1      3      1      1      3      1\n",
              "user2      1      2      4      1      3\n",
              "user3      3      1      1      3      1\n",
              "user4      4      3      5      4      4\n",
              "user5      1      5      5      1      5"
            ]
          },
          "metadata": {
            "tags": []
          },
          "execution_count": 1
        }
      ]
    },
    {
      "cell_type": "markdown",
      "metadata": {
        "id": "tF9f2dLR17-f"
      },
      "source": [
        "items 1 and 4: comedies\n",
        "\n",
        "items 3 and 5: action "
      ]
    },
    {
      "cell_type": "markdown",
      "metadata": {
        "id": "lw8OJQDozmT3"
      },
      "source": [
        ""
      ]
    },
    {
      "cell_type": "code",
      "metadata": {
        "colab": {
          "base_uri": "https://localhost:8080/",
          "height": 391
        },
        "id": "DEoCj-vi4_Wu",
        "outputId": "d439dd8e-63b0-4e0e-9512-3e12c6b69e43"
      },
      "source": [
        "U, sigma, VT = svd(array(A))\n",
        "Sigma = np.diag(sigma)\n",
        "\n",
        "n = U.dot(Sigma.dot(VT))\n",
        "display(U)\n",
        "display(sigma)\n",
        "display(VT)\n",
        "display(n)"
      ],
      "execution_count": 2,
      "outputs": [
        {
          "output_type": "display_data",
          "data": {
            "text/plain": [
              "array([[-2.54796916e-01,  5.16683691e-01, -2.60991370e-01,\n",
              "         7.25764262e-01, -2.70677366e-01],\n",
              "       [-3.75561167e-01, -2.55315462e-01,  6.27509223e-01,\n",
              "         4.01704239e-02, -6.31178530e-01],\n",
              "       [-2.54796916e-01,  5.16683691e-01, -2.60991370e-01,\n",
              "        -6.85593838e-01, -3.60501164e-01],\n",
              "       [-6.30358083e-01,  2.61368229e-01,  3.66517853e-01,\n",
              "        -4.01704239e-02,  6.31178530e-01],\n",
              "       [-5.75985729e-01, -5.76694539e-01, -5.79365039e-01,\n",
              "         1.24900090e-16,  3.12250226e-17]])"
            ]
          },
          "metadata": {
            "tags": []
          }
        },
        {
          "output_type": "display_data",
          "data": {
            "text/plain": [
              "array([1.41648871e+01, 5.41845487e+00, 1.41291190e+00, 3.42609121e-16,\n",
              "       2.66451462e-16])"
            ]
          },
          "metadata": {
            "tags": []
          }
        },
        {
          "output_type": "display_data",
          "data": {
            "text/plain": [
              "array([[-0.35310982, -0.42582189, -0.56785186, -0.35310982, -0.49683688],\n",
              "       [ 0.6115332 , -0.29097438, -0.28874025,  0.6115332 , -0.28985732],\n",
              "       [-0.03661419, -0.75322172,  0.65383993, -0.03661419, -0.04969089],\n",
              "       [ 0.28307163, -0.37410803, -0.37410803, -0.28307163,  0.74821606],\n",
              "       [ 0.64797411,  0.16343148,  0.16343148, -0.64797411, -0.32686296]])"
            ]
          },
          "metadata": {
            "tags": []
          }
        },
        {
          "output_type": "display_data",
          "data": {
            "text/plain": [
              "array([[3., 1., 1., 3., 1.],\n",
              "       [1., 2., 4., 1., 3.],\n",
              "       [3., 1., 1., 3., 1.],\n",
              "       [4., 3., 5., 4., 4.],\n",
              "       [1., 5., 5., 1., 5.]])"
            ]
          },
          "metadata": {
            "tags": []
          }
        }
      ]
    },
    {
      "cell_type": "code",
      "metadata": {
        "colab": {
          "base_uri": "https://localhost:8080/",
          "height": 238
        },
        "id": "wMSHTOc41vic",
        "outputId": "c36f2a41-906e-407c-c453-aff0c2edb110"
      },
      "source": [
        "A = np.mat(A,np.float64)\n",
        "\n",
        "U, sigma, VT = svds(A,k=2)\n",
        "Sigma = np.diag(sigma)\n",
        "\n",
        "n = U.dot(Sigma.dot(VT))\n",
        "display(U)\n",
        "display(sigma)\n",
        "display(VT)\n",
        "\n",
        "display(n)"
      ],
      "execution_count": 3,
      "outputs": [
        {
          "output_type": "display_data",
          "data": {
            "text/plain": [
              "array([[ 0.51668369,  0.25479692],\n",
              "       [-0.25531546,  0.37556117],\n",
              "       [ 0.51668369,  0.25479692],\n",
              "       [ 0.26136823,  0.63035808],\n",
              "       [-0.57669454,  0.57598573]])"
            ]
          },
          "metadata": {
            "tags": []
          }
        },
        {
          "output_type": "display_data",
          "data": {
            "text/plain": [
              "array([ 5.41845487, 14.16488711])"
            ]
          },
          "metadata": {
            "tags": []
          }
        },
        {
          "output_type": "display_data",
          "data": {
            "text/plain": [
              "array([[ 0.6115332 , -0.29097438, -0.28874025,  0.6115332 , -0.28985732],\n",
              "       [ 0.35310982,  0.42582189,  0.56785186,  0.35310982,  0.49683688]])"
            ]
          },
          "metadata": {
            "tags": []
          }
        },
        {
          "output_type": "display_data",
          "data": {
            "text/plain": [
              "array([[2.98649823, 0.72224361, 1.24110858, 2.98649823, 0.9816761 ],\n",
              "       [1.0324627 , 2.66781786, 3.42029554, 1.0324627 , 3.0440567 ],\n",
              "       [2.98649823, 0.72224361, 1.24110858, 2.98649823, 0.9816761 ],\n",
              "       [4.01896093, 3.39006147, 4.66140413, 4.01896093, 4.0257328 ],\n",
              "       [0.97002793, 4.38341891, 5.53522798, 0.97002793, 4.95932345]])"
            ]
          },
          "metadata": {
            "tags": []
          }
        }
      ]
    },
    {
      "cell_type": "code",
      "metadata": {
        "colab": {
          "base_uri": "https://localhost:8080/",
          "height": 51
        },
        "id": "VQpJsOIg6Db5",
        "outputId": "6fa4e708-56af-4415-94fa-cd2144542a54"
      },
      "source": [
        "display(Sigma.dot(VT))"
      ],
      "execution_count": 4,
      "outputs": [
        {
          "output_type": "display_data",
          "data": {
            "text/plain": [
              "array([[ 3.31356506, -1.57663155, -1.56452602,  3.31356506, -1.57057879],\n",
              "       [ 5.00176072,  6.03171906,  8.04355756,  5.00176072,  7.03763831]])"
            ]
          },
          "metadata": {
            "tags": []
          }
        }
      ]
    },
    {
      "cell_type": "markdown",
      "metadata": {
        "id": "guHLnE287iya"
      },
      "source": [
        "items:\n",
        "1 and 4 should be comedy\n",
        "3 and 5 should be action\n",
        "\n",
        "users 1 and 3 should favour comedies\n",
        "user 2 should favor action\n"
      ]
    },
    {
      "cell_type": "markdown",
      "metadata": {
        "id": "oshVJv1-Ih3x"
      },
      "source": [
        "## Missing ratings?\n"
      ]
    },
    {
      "cell_type": "code",
      "metadata": {
        "id": "G0VnUC8F7vvt",
        "outputId": "94b7fc75-75a6-4b5f-a8e4-668953893217",
        "colab": {
          "base_uri": "https://localhost:8080/",
          "height": 221
        }
      },
      "source": [
        "A = [\n",
        "    [4., 1., None, None, 5.0],\n",
        "    [3.5, 0.5, None, 2., 4.],\n",
        "    [None, None, 3., 4., 1.],\n",
        "    [0.5, 4., None, None, 0.5],\n",
        "    [1.5, 5., None, None, None]\n",
        "]\n",
        "\n",
        "def average(xs):\n",
        "    nxs = list(filter(lambda x: x is not None, xs))\n",
        "    return sum(nxs) / len(nxs)\n",
        "\n",
        "\n",
        "def normalise(xs):\n",
        "    avg = average(xs)\n",
        "    return [0.0 if x is None else x - avg for x in xs]\n",
        "\n",
        "AA = [normalise(x) for x in A]\n",
        "\n",
        "U, sigma, VT = svds(AA,k=2)\n",
        "\n",
        "Sigma = np.diag(sigma)\n",
        "n = U.dot(Sigma.dot(VT))\n",
        "\n",
        "display(U)\n",
        "display(Sigma.dot(VT))\n",
        "\n",
        "display(n)"
      ],
      "execution_count": 6,
      "outputs": [
        {
          "output_type": "display_data",
          "data": {
            "text/plain": [
              "array([[-0.09697977, -0.53585916],\n",
              "       [-0.14887612, -0.50606805],\n",
              "       [ 0.82946082,  0.17085387],\n",
              "       [-0.13675039,  0.5288954 ],\n",
              "       [-0.51159057,  0.38448498]])"
            ]
          },
          "metadata": {
            "tags": []
          }
        },
        {
          "output_type": "display_data",
          "data": {
            "text/plain": [
              "array([[ 0.84129631, -0.69032935,  0.27648694,  1.18038582, -1.60783971],\n",
              "       [-2.15320084,  4.16941212,  0.05695129,  0.48083919, -2.55400176]])"
            ]
          },
          "metadata": {
            "tags": []
          }
        },
        {
          "output_type": "display_data",
          "data": {
            "text/plain": [
              "array([[ 1.07222366, -2.16726967, -0.05733151, -0.37213563,  1.52451316],\n",
              "       [ 0.96441723, -2.00723272, -0.06998353, -0.41906861,  1.53186763],\n",
              "       [ 0.32993962,  0.13975906,  0.23906543,  1.06123702, -1.77000113],\n",
              "       [-1.25386562,  2.2995857 , -0.00768842,  0.09289542, -1.13092709],\n",
              "       [-1.25827264,  1.95624232, -0.11955119, -0.4189988 , -0.15941969]])"
            ]
          },
          "metadata": {
            "tags": []
          }
        }
      ]
    },
    {
      "cell_type": "markdown",
      "metadata": {
        "id": "uXJVTA5aW5nK"
      },
      "source": [
        "## Let's try applying this to some real world data anyway\n",
        "\n"
      ]
    },
    {
      "cell_type": "code",
      "metadata": {
        "id": "-tRXO3VrV1ON",
        "outputId": "d0a50514-db88-4146-aaf0-b76d7d874b35",
        "colab": {
          "base_uri": "https://localhost:8080/"
        }
      },
      "source": [
        "!wget  http://files.grouplens.org/datasets/movielens/ml-1m.zip\n",
        "!unzip ml-1m.zip\n",
        "!pwd"
      ],
      "execution_count": 7,
      "outputs": [
        {
          "output_type": "stream",
          "text": [
            "--2021-01-14 10:01:06--  http://files.grouplens.org/datasets/movielens/ml-1m.zip\n",
            "Resolving files.grouplens.org (files.grouplens.org)... 128.101.65.152\n",
            "Connecting to files.grouplens.org (files.grouplens.org)|128.101.65.152|:80... connected.\n",
            "HTTP request sent, awaiting response... 200 OK\n",
            "Length: 5917549 (5.6M) [application/zip]\n",
            "Saving to: ‘ml-1m.zip’\n",
            "\n",
            "ml-1m.zip           100%[===================>]   5.64M  14.9MB/s    in 0.4s    \n",
            "\n",
            "2021-01-14 10:01:06 (14.9 MB/s) - ‘ml-1m.zip’ saved [5917549/5917549]\n",
            "\n",
            "Archive:  ml-1m.zip\n",
            "   creating: ml-1m/\n",
            "  inflating: ml-1m/movies.dat        \n",
            "  inflating: ml-1m/ratings.dat       \n",
            "  inflating: ml-1m/README            \n",
            "  inflating: ml-1m/users.dat         \n",
            "/content\n"
          ],
          "name": "stdout"
        }
      ]
    },
    {
      "cell_type": "code",
      "metadata": {
        "id": "MEePqOpKV69_"
      },
      "source": [
        "import pandas as pd\n",
        "import numpy as np\n",
        "\n",
        "#from d2l import mxnet as d2l\n",
        "#from mxnet import gluon, np\n",
        "import os\n",
        "import pandas as pd\n",
        "from scipy.sparse.linalg import svds\n",
        "from numpy import zeros\n",
        "\n",
        "\n",
        "# http://files.grouplens.org/datasets/movielens/ml-1m.zip\n",
        "dir = '/content/ml-1m/'\n",
        "ratings_list = [i.strip().split(\"::\") for i in open(dir + 'ratings.dat', 'r').readlines()]\n",
        "users_list = [i.strip().split(\"::\") for i in open(dir + 'users.dat', 'r').readlines()]\n",
        "movies_list = [i.strip().split(\"::\") for i in open(dir + 'movies.dat', 'r', encoding = \"ISO-8859-1\").readlines()]\n",
        "\n",
        "ratings_df = pd.DataFrame(ratings_list, columns = ['UserID', 'MovieID', 'Rating', 'Timestamp'], dtype = int)\n",
        "movies_df = pd.DataFrame(movies_list, columns = ['MovieID', 'Title', 'Genres'])\n",
        "movies_df['MovieID'] = movies_df['MovieID'].apply(pd.to_numeric)\n",
        "\n"
      ],
      "execution_count": 8,
      "outputs": []
    },
    {
      "cell_type": "code",
      "metadata": {
        "id": "SUvROYbrWGYg",
        "outputId": "9b0e0ac8-eab4-42e0-db4f-9fa105f27285",
        "colab": {
          "base_uri": "https://localhost:8080/",
          "height": 765
        }
      },
      "source": [
        "R_df = ratings_df.pivot(index = 'UserID', columns ='MovieID', values = 'Rating').fillna(0)\n",
        "R_df.head()\n",
        "R_df = R_df.apply(pd.to_numeric)\n",
        "\n",
        "R = R_df.values\n",
        "user_ratings_mean = np.mean(R, axis = 1)\n",
        "R_demeaned = R - user_ratings_mean.reshape(-1, 1)\n",
        "\n",
        "U, sigma, Vt = svds(R_demeaned, k = 20)\n",
        "\n",
        "Sigma = np.diag(sigma)\n",
        "n = U.dot(Sigma.dot(Vt))\n",
        "display(U)\n",
        "display(sigma)\n",
        "display(Vt)\n",
        "display(n)\n"
      ],
      "execution_count": 9,
      "outputs": [
        {
          "output_type": "display_data",
          "data": {
            "text/plain": [
              "array([[-0.00574605,  0.0025163 ,  0.00160289, ...,  0.00295139,\n",
              "         0.00195703,  0.0054689 ],\n",
              "       [ 0.02243342, -0.00995284, -0.008162  , ..., -0.01498024,\n",
              "        -0.00347841,  0.02689629],\n",
              "       [ 0.01406056, -0.01308128,  0.0108737 , ..., -0.00800385,\n",
              "        -0.00432385,  0.00705568],\n",
              "       ...,\n",
              "       [-0.00677375, -0.00013937, -0.01111045, ...,  0.00474073,\n",
              "        -0.00339477,  0.00431568],\n",
              "       [ 0.01816663, -0.00935234,  0.00898066, ...,  0.02620587,\n",
              "         0.00759581,  0.00699538],\n",
              "       [ 0.01434938, -0.00401954, -0.00149913, ..., -0.00042638,\n",
              "        -0.02412542,  0.01850617]])"
            ]
          },
          "metadata": {
            "tags": []
          }
        },
        {
          "output_type": "display_data",
          "data": {
            "text/plain": [
              "array([ 212.55518526,  215.46630906,  221.6502159 ,  231.38108343,\n",
              "        239.08619469,  244.8772772 ,  252.13622776,  256.26466285,\n",
              "        275.38648118,  287.89180228,  315.0835415 ,  335.08085421,\n",
              "        345.17197178,  362.26793969,  415.93557804,  434.97695433,\n",
              "        497.2191638 ,  574.46932602,  670.41536276, 1544.10679346])"
            ]
          },
          "metadata": {
            "tags": []
          }
        },
        {
          "output_type": "display_data",
          "data": {
            "text/plain": [
              "array([[-0.06998523,  0.0407485 ,  0.00421439, ...,  0.00145469,\n",
              "        -0.00489998, -0.00799834],\n",
              "       [ 0.1181127 ,  0.01283735,  0.00218896, ..., -0.00552797,\n",
              "        -0.00312608,  0.00085089],\n",
              "       [ 0.0087521 , -0.01336816,  0.00585148, ...,  0.00047578,\n",
              "         0.00828728,  0.00835374],\n",
              "       ...,\n",
              "       [ 0.03287652, -0.01895066,  0.0061194 , ...,  0.00161115,\n",
              "         0.00369017,  0.00926893],\n",
              "       [-0.01776333, -0.05395807, -0.00139293, ...,  0.00118251,\n",
              "        -0.0048817 , -0.00403605],\n",
              "       [ 0.07625855,  0.02802877, -0.00530375, ..., -0.01005848,\n",
              "        -0.00772388,  0.00147574]])"
            ]
          },
          "metadata": {
            "tags": []
          }
        },
        {
          "output_type": "display_data",
          "data": {
            "text/plain": [
              "array([[ 3.14685339, -0.08409309, -0.09507561, ..., -0.0674051 ,\n",
              "        -0.07906638, -0.22636765],\n",
              "       [ 4.85019427,  0.97521544, -0.68644255, ..., -0.54266573,\n",
              "        -0.65437844, -0.82051896],\n",
              "       [-0.06973815,  0.81018783, -0.11237976, ..., -0.0628956 ,\n",
              "        -0.01524059, -0.18837905],\n",
              "       ...,\n",
              "       [ 1.79122886,  0.03245695, -0.07569502, ..., -0.03169412,\n",
              "        -0.04187531, -0.120584  ],\n",
              "       [ 1.23775475, -0.35082098,  0.02009478, ..., -0.01832998,\n",
              "        -0.10015102, -0.14332423],\n",
              "       [-1.19420181,  3.03196482,  0.16368347, ..., -0.29587815,\n",
              "         0.03992397,  0.15770374]])"
            ]
          },
          "metadata": {
            "tags": []
          }
        }
      ]
    },
    {
      "cell_type": "code",
      "metadata": {
        "id": "7JztRhgnXY7m",
        "outputId": "2374be75-6d45-4de1-dd34-12c70140d11a",
        "colab": {
          "base_uri": "https://localhost:8080/"
        }
      },
      "source": [
        "R[0]"
      ],
      "execution_count": 14,
      "outputs": [
        {
          "output_type": "execute_result",
          "data": {
            "text/plain": [
              "array([5, 0, 0, ..., 0, 0, 0])"
            ]
          },
          "metadata": {
            "tags": []
          },
          "execution_count": 14
        }
      ]
    },
    {
      "cell_type": "code",
      "metadata": {
        "id": "ELqqp6vrXOIh",
        "outputId": "1229c9b6-e74f-4d26-c9f4-95a0bc1ed0f4",
        "colab": {
          "base_uri": "https://localhost:8080/"
        }
      },
      "source": [
        "R_demeaned[0]\n"
      ],
      "execution_count": 12,
      "outputs": [
        {
          "output_type": "execute_result",
          "data": {
            "text/plain": [
              "array([ 4.94009714, -0.05990286, -0.05990286, ..., -0.05990286,\n",
              "       -0.05990286, -0.05990286])"
            ]
          },
          "metadata": {
            "tags": []
          },
          "execution_count": 12
        }
      ]
    },
    {
      "cell_type": "code",
      "metadata": {
        "id": "BeXt-Y3eXVA0",
        "outputId": "748f65fc-c992-4b88-d4bb-d513a8ba1437",
        "colab": {
          "base_uri": "https://localhost:8080/"
        }
      },
      "source": [
        "n[0]"
      ],
      "execution_count": 13,
      "outputs": [
        {
          "output_type": "execute_result",
          "data": {
            "text/plain": [
              "array([ 3.14685339, -0.08409309, -0.09507561, ..., -0.0674051 ,\n",
              "       -0.07906638, -0.22636765])"
            ]
          },
          "metadata": {
            "tags": []
          },
          "execution_count": 13
        }
      ]
    },
    {
      "cell_type": "markdown",
      "metadata": {
        "id": "jjCLzhFKXmXR"
      },
      "source": [
        "https://github.com/beckernick/matrix_factorization_recommenders/blob/master/matrix_factorization_recommender.ipynb"
      ]
    }
  ]
}