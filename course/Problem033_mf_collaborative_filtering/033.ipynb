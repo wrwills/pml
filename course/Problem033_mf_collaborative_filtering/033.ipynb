{
  "nbformat": 4,
  "nbformat_minor": 0,
  "metadata": {
    "colab": {
      "name": "Untitled5.ipynb",
      "provenance": [],
      "authorship_tag": "ABX9TyO4niGZYVPwu1S8IUcy9wDC",
      "include_colab_link": true
    },
    "kernelspec": {
      "name": "python3",
      "display_name": "Python 3"
    }
  },
  "cells": [
    {
      "cell_type": "markdown",
      "metadata": {
        "id": "view-in-github",
        "colab_type": "text"
      },
      "source": [
        "<a href=\"https://colab.research.google.com/github/wrwills/pml/blob/master/course/Problem033_mf_collaborative_filtering/033.ipynb\" target=\"_parent\"><img src=\"https://colab.research.google.com/assets/colab-badge.svg\" alt=\"Open In Colab\"/></a>"
      ]
    },
    {
      "cell_type": "markdown",
      "metadata": {
        "id": "diJnHEwuzrYB"
      },
      "source": [
        "## Matrix Factorisation\n",
        "\n",
        "![](https://miro.medium.com/max/1400/1*kxAP7W7aOGdcgpTFUMgSfg.jpeg \"Logo Title Text 1\")\n"
      ]
    },
    {
      "cell_type": "code",
      "metadata": {
        "colab": {
          "base_uri": "https://localhost:8080/",
          "height": 204
        },
        "id": "yPUYUVsPzki4",
        "outputId": "4bb281d6-2f58-4755-d294-1d8fe33214ef"
      },
      "source": [
        "from numpy import array\n",
        "from numpy import diag\n",
        "from numpy import dot\n",
        "from numpy import zeros\n",
        "from scipy.linalg import svd\n",
        "import numpy as np\n",
        "\n",
        "from scipy.sparse.linalg import svds\n",
        "\n",
        "import pandas as pd\n",
        "\n",
        "def display_matrix(data):\n",
        "  df = pd.DataFrame(data) \n",
        "  df.rename(columns=lambda x: \"item\" + str(x + 1), inplace=True)\n",
        "  df.rename(index = lambda x: \"user\" + str(x + 1), inplace=True)\n",
        "  return df\n",
        "\n",
        "A = [\n",
        "    [3,1,1,3,1],\n",
        "    [1,2,4,1,3],\n",
        "    [3,1,1,3,1],\n",
        "    [4,3,5,4,4],\n",
        "    [1,5,5,1,5]\n",
        "]\n",
        "\n",
        "display_matrix(A)\n"
      ],
      "execution_count": 19,
      "outputs": [
        {
          "output_type": "execute_result",
          "data": {
            "text/html": [
              "<div>\n",
              "<style scoped>\n",
              "    .dataframe tbody tr th:only-of-type {\n",
              "        vertical-align: middle;\n",
              "    }\n",
              "\n",
              "    .dataframe tbody tr th {\n",
              "        vertical-align: top;\n",
              "    }\n",
              "\n",
              "    .dataframe thead th {\n",
              "        text-align: right;\n",
              "    }\n",
              "</style>\n",
              "<table border=\"1\" class=\"dataframe\">\n",
              "  <thead>\n",
              "    <tr style=\"text-align: right;\">\n",
              "      <th></th>\n",
              "      <th>item1</th>\n",
              "      <th>item2</th>\n",
              "      <th>item3</th>\n",
              "      <th>item4</th>\n",
              "      <th>item5</th>\n",
              "    </tr>\n",
              "  </thead>\n",
              "  <tbody>\n",
              "    <tr>\n",
              "      <th>user1</th>\n",
              "      <td>3</td>\n",
              "      <td>1</td>\n",
              "      <td>1</td>\n",
              "      <td>3</td>\n",
              "      <td>1</td>\n",
              "    </tr>\n",
              "    <tr>\n",
              "      <th>user2</th>\n",
              "      <td>1</td>\n",
              "      <td>2</td>\n",
              "      <td>4</td>\n",
              "      <td>1</td>\n",
              "      <td>3</td>\n",
              "    </tr>\n",
              "    <tr>\n",
              "      <th>user3</th>\n",
              "      <td>3</td>\n",
              "      <td>1</td>\n",
              "      <td>1</td>\n",
              "      <td>3</td>\n",
              "      <td>1</td>\n",
              "    </tr>\n",
              "    <tr>\n",
              "      <th>user4</th>\n",
              "      <td>4</td>\n",
              "      <td>3</td>\n",
              "      <td>5</td>\n",
              "      <td>4</td>\n",
              "      <td>4</td>\n",
              "    </tr>\n",
              "    <tr>\n",
              "      <th>user5</th>\n",
              "      <td>1</td>\n",
              "      <td>5</td>\n",
              "      <td>5</td>\n",
              "      <td>1</td>\n",
              "      <td>5</td>\n",
              "    </tr>\n",
              "  </tbody>\n",
              "</table>\n",
              "</div>"
            ],
            "text/plain": [
              "       item1  item2  item3  item4  item5\n",
              "user1      3      1      1      3      1\n",
              "user2      1      2      4      1      3\n",
              "user3      3      1      1      3      1\n",
              "user4      4      3      5      4      4\n",
              "user5      1      5      5      1      5"
            ]
          },
          "metadata": {
            "tags": []
          },
          "execution_count": 19
        }
      ]
    },
    {
      "cell_type": "markdown",
      "metadata": {
        "id": "tF9f2dLR17-f"
      },
      "source": [
        "items 1 and 4: comedies\n",
        "\n",
        "items 3 and 5: action "
      ]
    },
    {
      "cell_type": "markdown",
      "metadata": {
        "id": "lw8OJQDozmT3"
      },
      "source": [
        ""
      ]
    },
    {
      "cell_type": "code",
      "metadata": {
        "colab": {
          "base_uri": "https://localhost:8080/",
          "height": 391
        },
        "id": "DEoCj-vi4_Wu",
        "outputId": "7747c337-450e-409c-fcc4-f1a87ac79f2c"
      },
      "source": [
        "U, sigma, VT = svd(array(A))\n",
        "Sigma = np.diag(sigma)\n",
        "\n",
        "n = U.dot(Sigma.dot(VT))\n",
        "display(U)\n",
        "display(sigma)\n",
        "display(VT)\n",
        "display(n)"
      ],
      "execution_count": 20,
      "outputs": [
        {
          "output_type": "display_data",
          "data": {
            "text/plain": [
              "array([[-2.54796916e-01,  5.16683691e-01, -2.60991370e-01,\n",
              "         7.25764262e-01, -2.70677366e-01],\n",
              "       [-3.75561167e-01, -2.55315462e-01,  6.27509223e-01,\n",
              "         4.01704239e-02, -6.31178530e-01],\n",
              "       [-2.54796916e-01,  5.16683691e-01, -2.60991370e-01,\n",
              "        -6.85593838e-01, -3.60501164e-01],\n",
              "       [-6.30358083e-01,  2.61368229e-01,  3.66517853e-01,\n",
              "        -4.01704239e-02,  6.31178530e-01],\n",
              "       [-5.75985729e-01, -5.76694539e-01, -5.79365039e-01,\n",
              "         1.24900090e-16,  3.12250226e-17]])"
            ]
          },
          "metadata": {
            "tags": []
          }
        },
        {
          "output_type": "display_data",
          "data": {
            "text/plain": [
              "array([1.41648871e+01, 5.41845487e+00, 1.41291190e+00, 3.42609121e-16,\n",
              "       2.66451462e-16])"
            ]
          },
          "metadata": {
            "tags": []
          }
        },
        {
          "output_type": "display_data",
          "data": {
            "text/plain": [
              "array([[-0.35310982, -0.42582189, -0.56785186, -0.35310982, -0.49683688],\n",
              "       [ 0.6115332 , -0.29097438, -0.28874025,  0.6115332 , -0.28985732],\n",
              "       [-0.03661419, -0.75322172,  0.65383993, -0.03661419, -0.04969089],\n",
              "       [ 0.28307163, -0.37410803, -0.37410803, -0.28307163,  0.74821606],\n",
              "       [ 0.64797411,  0.16343148,  0.16343148, -0.64797411, -0.32686296]])"
            ]
          },
          "metadata": {
            "tags": []
          }
        },
        {
          "output_type": "display_data",
          "data": {
            "text/plain": [
              "array([[3., 1., 1., 3., 1.],\n",
              "       [1., 2., 4., 1., 3.],\n",
              "       [3., 1., 1., 3., 1.],\n",
              "       [4., 3., 5., 4., 4.],\n",
              "       [1., 5., 5., 1., 5.]])"
            ]
          },
          "metadata": {
            "tags": []
          }
        }
      ]
    },
    {
      "cell_type": "code",
      "metadata": {
        "colab": {
          "base_uri": "https://localhost:8080/",
          "height": 238
        },
        "id": "wMSHTOc41vic",
        "outputId": "fee338e8-d9eb-4217-edcc-360020afeeeb"
      },
      "source": [
        "A = np.mat(A,np.float64)\n",
        "\n",
        "U, sigma, VT = svds(A,k=2)\n",
        "Sigma = np.diag(sigma)\n",
        "\n",
        "n = U.dot(Sigma.dot(VT))\n",
        "display(U)\n",
        "display(sigma)\n",
        "display(VT)\n",
        "\n",
        "display(n)"
      ],
      "execution_count": 21,
      "outputs": [
        {
          "output_type": "display_data",
          "data": {
            "text/plain": [
              "array([[ 0.51668369,  0.25479692],\n",
              "       [-0.25531546,  0.37556117],\n",
              "       [ 0.51668369,  0.25479692],\n",
              "       [ 0.26136823,  0.63035808],\n",
              "       [-0.57669454,  0.57598573]])"
            ]
          },
          "metadata": {
            "tags": []
          }
        },
        {
          "output_type": "display_data",
          "data": {
            "text/plain": [
              "array([ 5.41845487, 14.16488711])"
            ]
          },
          "metadata": {
            "tags": []
          }
        },
        {
          "output_type": "display_data",
          "data": {
            "text/plain": [
              "array([[ 0.6115332 , -0.29097438, -0.28874025,  0.6115332 , -0.28985732],\n",
              "       [ 0.35310982,  0.42582189,  0.56785186,  0.35310982,  0.49683688]])"
            ]
          },
          "metadata": {
            "tags": []
          }
        },
        {
          "output_type": "display_data",
          "data": {
            "text/plain": [
              "array([[2.98649823, 0.72224361, 1.24110858, 2.98649823, 0.9816761 ],\n",
              "       [1.0324627 , 2.66781786, 3.42029554, 1.0324627 , 3.0440567 ],\n",
              "       [2.98649823, 0.72224361, 1.24110858, 2.98649823, 0.9816761 ],\n",
              "       [4.01896093, 3.39006147, 4.66140413, 4.01896093, 4.0257328 ],\n",
              "       [0.97002793, 4.38341891, 5.53522798, 0.97002793, 4.95932345]])"
            ]
          },
          "metadata": {
            "tags": []
          }
        }
      ]
    },
    {
      "cell_type": "code",
      "metadata": {
        "colab": {
          "base_uri": "https://localhost:8080/",
          "height": 51
        },
        "id": "VQpJsOIg6Db5",
        "outputId": "9e6b594e-3c89-4cb8-90c3-da6326d58482"
      },
      "source": [
        "display(Sigma.dot(VT))"
      ],
      "execution_count": 22,
      "outputs": [
        {
          "output_type": "display_data",
          "data": {
            "text/plain": [
              "array([[ 3.31356506, -1.57663155, -1.56452602,  3.31356506, -1.57057879],\n",
              "       [ 5.00176072,  6.03171906,  8.04355756,  5.00176072,  7.03763831]])"
            ]
          },
          "metadata": {
            "tags": []
          }
        }
      ]
    },
    {
      "cell_type": "markdown",
      "metadata": {
        "id": "guHLnE287iya"
      },
      "source": [
        "items:\n",
        "1 and 4 should be comedy\n",
        "3 and 5 should be action\n",
        "\n",
        "users 1 and 3 should favour comedies\n",
        "user 2 should favor action\n"
      ]
    },
    {
      "cell_type": "markdown",
      "metadata": {
        "id": "oshVJv1-Ih3x"
      },
      "source": [
        "## Missing ratings?\n"
      ]
    },
    {
      "cell_type": "code",
      "metadata": {
        "id": "G0VnUC8F7vvt"
      },
      "source": [
        "A = [\n",
        "    [4., 1., None, None, 5.0],\n",
        "    [3.5, 0.5, None, 2., 4.],\n",
        "    [None, None, 3., 4., 1.],\n",
        "    [0.5, 4., None, None, 0.5],\n",
        "    [1.5, 5., None, None, None]\n",
        "]\n",
        "\n",
        "def average(xs):\n",
        "    nxs = list(filter(lambda x: x is not None, xs))\n",
        "    return sum(nxs) / len(nxs)\n",
        "\n",
        "\n",
        "def normalise(xs):\n",
        "    avg = average(xs)\n",
        "    return [0.0 if x is None else x - avg for x in xs]\n",
        "\n",
        "AA = [normalise(x) for x in A]\n",
        "\n",
        "U, sigma, VT = svds(AA,k=2)\n",
        "\n",
        "Sigma = np.diag(sigma)\n",
        "n = U.dot(Sigma.dot(VT))"
      ],
      "execution_count": 23,
      "outputs": []
    }
  ]
}