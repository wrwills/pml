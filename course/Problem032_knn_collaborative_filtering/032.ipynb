{
 "cells": [
  {
   "cell_type": "markdown",
   "metadata": {},
   "source": [
    "# Recommender Systems\n",
    "\n",
    "\n",
    "recommmendation system: presents items to users in a relevant way\n",
    "\n",
    "We will look at collaborative filtering\n",
    "\n",
    "user: party that is receiving Recommendations\n",
    "item: the passive party that is being recommended to users  \n",
    "\n",
    "Content based vs collaborative filtering\n",
    "In practice most will be hybrid.\n",
    "\n",
    "## Some articles\n",
    "\n",
    "\"Factor in the Neighbors: Scalable and\n",
    "Accurate Collaborative Filtering\":\n",
    "http://courses.ischool.berkeley.edu/i290-dm/s11/SECURE/a1-koren.pdf\n",
    "\n",
    "\n",
    "\n",
    "## Recommendations at Expedia Group\n",
    "\n",
    "### EPS\n",
    "\n",
    "https://confluence.expedia.biz/pages/viewpage.action?pageId=890552932\n",
    "\n",
    "https://www.dropbox.com/s/cf77o15jlahabay/wid-eps-recommendations.pdf\n",
    "\n",
    "### BEX?\n",
    "\n",
    "### Hcom?\n"
   ]
  },
  {
   "cell_type": "code",
   "execution_count": 1,
   "metadata": {},
   "outputs": [
    {
     "data": {
      "text/html": [
       "<div>\n",
       "<style scoped>\n",
       "    .dataframe tbody tr th:only-of-type {\n",
       "        vertical-align: middle;\n",
       "    }\n",
       "\n",
       "    .dataframe tbody tr th {\n",
       "        vertical-align: top;\n",
       "    }\n",
       "\n",
       "    .dataframe thead th {\n",
       "        text-align: right;\n",
       "    }\n",
       "</style>\n",
       "<table border=\"1\" class=\"dataframe\">\n",
       "  <thead>\n",
       "    <tr style=\"text-align: right;\">\n",
       "      <th></th>\n",
       "      <th>item0</th>\n",
       "      <th>item1</th>\n",
       "      <th>item2</th>\n",
       "      <th>item3</th>\n",
       "    </tr>\n",
       "  </thead>\n",
       "  <tbody>\n",
       "    <tr>\n",
       "      <th>user0</th>\n",
       "      <td>1.0</td>\n",
       "      <td>0.5</td>\n",
       "      <td>NaN</td>\n",
       "      <td>NaN</td>\n",
       "    </tr>\n",
       "    <tr>\n",
       "      <th>user1</th>\n",
       "      <td>NaN</td>\n",
       "      <td>0.3</td>\n",
       "      <td>NaN</td>\n",
       "      <td>NaN</td>\n",
       "    </tr>\n",
       "    <tr>\n",
       "      <th>user2</th>\n",
       "      <td>0.4</td>\n",
       "      <td>0.9</td>\n",
       "      <td>0.8</td>\n",
       "      <td>0.7</td>\n",
       "    </tr>\n",
       "    <tr>\n",
       "      <th>user3</th>\n",
       "      <td>0.1</td>\n",
       "      <td>NaN</td>\n",
       "      <td>NaN</td>\n",
       "      <td>NaN</td>\n",
       "    </tr>\n",
       "  </tbody>\n",
       "</table>\n",
       "</div>"
      ],
      "text/plain": [
       "       item0  item1  item2  item3\n",
       "user0    1.0    0.5    NaN    NaN\n",
       "user1    NaN    0.3    NaN    NaN\n",
       "user2    0.4    0.9    0.8    0.7\n",
       "user3    0.1    NaN    NaN    NaN"
      ]
     },
     "execution_count": 1,
     "metadata": {},
     "output_type": "execute_result"
    }
   ],
   "source": [
    "import pandas as pd\n",
    "\n",
    "data = [[1.0, 0.5, None, None], [None, 0.3], [0.4,0.9,0.8,0.7], [0.1]]\n",
    "df = pd.DataFrame(data) \n",
    "df.rename(columns=lambda x: \"item\" + str(x), inplace=True)\n",
    "df.rename(index = lambda x: \"user\" + str(x), inplace=True)\n",
    "df"
   ]
  },
  {
   "cell_type": "markdown",
   "metadata": {},
   "source": [
    "The matrix will be sparse.\n",
    "\n",
    "We want to fill in those user, item pairs using explicit and implicit interactions.\n",
    "\n",
    "eg ratings, hearts, stars\n",
    "watches, views, skips\n",
    "\n",
    "From a practical standpoint this will often be the most work.\n",
    "\n",
    "\n"
   ]
  },
  {
   "cell_type": "markdown",
   "metadata": {},
   "source": [
    "## Libraries\n",
    "\n",
    "There are a number of libraries around.\n",
    "\n",
    "Surprise is a Python scikit building and analyzing recommender systems.\n",
    "http://surpriselib.com/\n",
    "We'll be using it below as it's convenient for exploration\n",
    "\n",
    "Also of interest tensorrec - hybrid recommender system\n",
    "https://github.com/jfkirk/tensorrec\n"
   ]
  },
  {
   "cell_type": "code",
   "execution_count": 2,
   "metadata": {},
   "outputs": [],
   "source": [
    "from surprise import SVD\n",
    "from surprise import Dataset\n",
    "\n",
    "from surprise import SVD\n",
    "from surprise import KNNWithMeans\n",
    "from surprise import Dataset\n",
    "from surprise.model_selection import cross_validate\n",
    "from surprise.model_selection import train_test_split\n",
    "from surprise import accuracy\n",
    "\n",
    "import csv\n",
    "\n",
    "data = Dataset.load_builtin('ml-100k')\n",
    "\n",
    "def get_movies():\n",
    "    movies = {}\n",
    "    with open(data.ratings_file.replace(\"u.data\",\"u.item\"), 'r', encoding = \"ISO-8859-1\") as csvfile:\n",
    "        moviesreader = csv.reader(csvfile, delimiter='|')\n",
    "        for row in moviesreader:\n",
    "            movies[int(row[0])] = row[1]\n",
    "    return movies\n",
    "\n",
    "def get_recs(algo,uid):\n",
    "    recs = []\n",
    "    for item in algo.trainset.all_items():\n",
    "        pred = algo.predict(str(uid), str(item))\n",
    "        recs.append((pred.est,item))\n",
    "    recs.sort(reverse = True)\n",
    "    return recs\n",
    "\n",
    "def top_recs(i,recs):\n",
    "    return list(map(lambda x: (x[0],movies[x[1]]), recs[:10]))\n",
    "\n",
    "def get_ratings_by_user(uid):\n",
    "    ratings = list(map(lambda x: tuple(reversed(x)), trainset.ur[uid]))\n",
    "    ratings.sort(reverse = True)\n",
    "    return ratings\n",
    "\n",
    "\n",
    "def show_movie_ratings(ratings):\n",
    "    return list(map(lambda x: (x[0],x[1],movies.get(x[1],x[1])), ratings))\n"
   ]
  },
  {
   "cell_type": "code",
   "execution_count": 3,
   "metadata": {},
   "outputs": [],
   "source": [
    "movies = get_movies()\n",
    "trainset, testset = train_test_split(data, test_size=.15)"
   ]
  },
  {
   "cell_type": "markdown",
   "metadata": {},
   "source": [
    "## Collaborative Filtering - KNN\n",
    "\n",
    "A collaborative filtering recommender system analyzes similarities between users and/or item interactions. Once the system identifies similarities, it serves users recommendations. In general, users see items that similar users liked.\n",
    "\n",
    "https://surprise.readthedocs.io/en/stable/knn_inspired.html\n",
    "\n",
    "### Measure Similarity\n",
    "Pearson correlation coefficient, ρij, which measures the tendency of users to rate items i and j similarly\n",
    "Others available including cosine Cosine\n",
    "\n",
    "https://towardsdatascience.com/building-and-testing-recommender-systems-with-surprise-step-by-step-d4ba702ef80b\n",
    "https://towardsdatascience.com/prototyping-a-recommender-system-step-by-step-part-1-knn-item-based-collaborative-filtering-637969614ea\n"
   ]
  },
  {
   "cell_type": "code",
   "execution_count": 4,
   "metadata": {},
   "outputs": [
    {
     "name": "stdout",
     "output_type": "stream",
     "text": [
      "Estimating biases using als...\n",
      "Computing the pearson_baseline similarity matrix...\n",
      "Done computing similarity matrix.\n",
      "RMSE: 0.9388\n"
     ]
    },
    {
     "data": {
      "text/plain": [
       "0.938814854035541"
      ]
     },
     "execution_count": 4,
     "metadata": {},
     "output_type": "execute_result"
    }
   ],
   "source": [
    "# k nearest neigbours\n",
    "# user based\n",
    "algo = KNNWithMeans(k=50, sim_options={'name': 'pearson_baseline', 'user_based': True})\n",
    "#algo = KNNWithMeans(k=50, sim_options={'name': 'cosine', 'user_based': True})\n",
    "\n",
    "algo.fit(trainset)\n",
    "# now we can test predictions from the model against our testset\n",
    "predictions = algo.test(testset)\n",
    "\n",
    "# and we can test against test data\n",
    "# mse -- mean sqare error\n",
    "# rmse  -- root mean square error\n",
    "# - how close fitted line is to data points\n",
    "\n",
    "accuracy.rmse(predictions, verbose=True)\n",
    "\n"
   ]
  },
  {
   "cell_type": "markdown",
   "metadata": {},
   "source": [
    "### But what has been predicted?"
   ]
  },
  {
   "cell_type": "code",
   "execution_count": 5,
   "metadata": {},
   "outputs": [
    {
     "data": {
      "text/plain": [
       "[(5.0, 661, 'High Noon (1952)'),\n",
       " (5.0, 590, 'Hellraiser: Bloodline (1996)'),\n",
       " (5.0, 547, \"Young Poisoner's Handbook, The (1995)\"),\n",
       " (5.0, 536, 'Ponette (1996)'),\n",
       " (5.0, 384, 'Naked Gun 33 1/3: The Final Insult (1994)'),\n",
       " (5.0, 366, 'Dangerous Minds (1995)'),\n",
       " (5.0, 355, 'Sphere (1998)'),\n",
       " (5.0, 273, 'Heat (1995)'),\n",
       " (5.0, 267, 'unknown'),\n",
       " (5.0, 265, 'Hunt for Red October, The (1990)'),\n",
       " (5.0, 263, 'Steel (1997)'),\n",
       " (5.0, 251, 'Shall We Dance? (1996)'),\n",
       " (5.0, 186, 'Blues Brothers, The (1980)'),\n",
       " (5.0, 162, 'On Golden Pond (1981)'),\n",
       " (5.0, 92, 'True Romance (1993)'),\n",
       " (5.0, 70, 'Four Weddings and a Funeral (1994)'),\n",
       " (5.0, 66, 'While You Were Sleeping (1995)'),\n",
       " (4.0, 810, 'Shadow, The (1994)'),\n",
       " (4.0, 626, 'So Dear to My Heart (1949)'),\n",
       " (4.0, 556, 'Wild Bill (1995)'),\n",
       " (4.0, 548, 'NeverEnding Story III, The (1994)'),\n",
       " (4.0, 522, 'Down by Law (1986)'),\n",
       " (4.0, 413, 'Tales from the Crypt Presents: Bordello of Blood (1996)'),\n",
       " (4.0, 402, 'Ghost (1990)'),\n",
       " (4.0, 348, 'Desperate Measures (1998)'),\n",
       " (4.0, 293, 'Donnie Brasco (1997)'),\n",
       " (4.0, 252, 'Lost World: Jurassic Park, The (1997)'),\n",
       " (4.0, 239, 'Sneakers (1992)'),\n",
       " (4.0, 180, 'Apocalypse Now (1979)'),\n",
       " (4.0, 177, 'Good, The Bad and The Ugly, The (1966)'),\n",
       " (4.0, 105, 'Sgt. Bilko (1996)'),\n",
       " (4.0, 93, 'Welcome to the Dollhouse (1995)'),\n",
       " (4.0, 75, 'Brother Minister: The Assassination of Malcolm X (1994)'),\n",
       " (4.0, 40, 'To Wong Foo, Thanks for Everything! Julie Newmar (1995)'),\n",
       " (4.0, 7, 'Twelve Monkeys (1995)'),\n",
       " (3.0, 866, 'Michael (1996)'),\n",
       " (3.0, 671, 'Bride of Frankenstein (1935)'),\n",
       " (3.0, 569, 'Wolf (1994)'),\n",
       " (3.0, 491, 'Adventures of Robin Hood, The (1938)'),\n",
       " (3.0, 370, 'Mary Reilly (1996)'),\n",
       " (3.0, 291, 'Absolute Power (1997)'),\n",
       " (3.0, 100, 'Fargo (1996)'),\n",
       " (3.0, 91, 'Nightmare Before Christmas, The (1993)'),\n",
       " (3.0, 17, 'From Dusk Till Dawn (1996)'),\n",
       " (2.0, 1417, 'Turning, The (1992)'),\n",
       " (2.0, 510, 'Magnificent Seven, The (1954)'),\n",
       " (2.0, 368, 'Bio-Dome (1996)'),\n",
       " (1.0, 689, 'Jackal, The (1997)'),\n",
       " (1.0, 578, 'Demolition Man (1993)'),\n",
       " (1.0, 524, 'Great Dictator, The (1940)'),\n",
       " (1.0, 501, 'Dumbo (1941)'),\n",
       " (1.0, 484, 'Maltese Falcon, The (1941)')]"
      ]
     },
     "execution_count": 5,
     "metadata": {},
     "output_type": "execute_result"
    }
   ],
   "source": [
    "show_movie_ratings(get_ratings_by_user(277))\n"
   ]
  },
  {
   "cell_type": "code",
   "execution_count": 6,
   "metadata": {},
   "outputs": [
    {
     "data": {
      "text/plain": [
       "[(5, 1597, 'Romper Stomper (1992)'),\n",
       " (5, 1591, 'Duoluo tianshi (1995)'),\n",
       " (5, 1536, 'Aiqing wansui (1994)'),\n",
       " (5, 1499, 'Grosse Fatigue (1994)'),\n",
       " (5,\n",
       "  1242,\n",
       "  'Old Lady Who Walked in the Sea, The (Vieille qui marchait dans la mer, La) (1991)'),\n",
       " (5, 1233, 'Nénette et Boni (1996)'),\n",
       " (4.9800682919082035, 1166, 'Love & Human Remains (1993)'),\n",
       " (4.967573696145125, 1344, 'Story of Xinghua, The (1993)'),\n",
       " (4.954912197437114, 1268, 'Bitter Moon (1992)'),\n",
       " (4.953910750903232, 1642, \"Some Mother's Son (1996)\"),\n",
       " (4.905605686214109, 1388, 'Gabbeh (1996)'),\n",
       " (4.899800750658986,\n",
       "  113,\n",
       "  'Horseman on the Roof, The (Hussard sur le toit, Le) (1995)'),\n",
       " (4.881487850820939, 1512, 'World of Apu, The (Apur Sansar) (1959)'),\n",
       " (4.855092722020315, 1398, 'Anna (1996)'),\n",
       " (4.849795918367347, 1467, 'Saint of Fort Washington, The (1993)'),\n",
       " (4.848911940466794, 1080, 'Celestial Clockwork (1994)'),\n",
       " (4.79282622139765, 1653, 'Entertaining Angels: The Dorothy Day Story (1996)'),\n",
       " (4.779790881897529,\n",
       "  1347,\n",
       "  'Ballad of Narayama, The (Narayama Bushiko) (1958)'),\n",
       " (4.748983238400854, 1282, 'Grass Harp, The (1995)'),\n",
       " (4.698979591836735, 1662, 'Rough Magic (1995)')]"
      ]
     },
     "execution_count": 6,
     "metadata": {},
     "output_type": "execute_result"
    }
   ],
   "source": [
    "show_movie_ratings(get_recs(algo,277)[:20])"
   ]
  },
  {
   "cell_type": "code",
   "execution_count": 7,
   "metadata": {},
   "outputs": [
    {
     "data": {
      "text/plain": [
       "[(1.5363288569803095, 1087, 'Bloodsport 2 (1995)'),\n",
       " (1.5010874283204627, 1288, 'Denise Calls Up (1995)'),\n",
       " (1.4709703831825514, 1419, 'Highlander III: The Sorcerer (1994)'),\n",
       " (1.4653914384829956, 1001, 'Stupids, The (1996)'),\n",
       " (1.447242726877985, 1472, 'Visitors, The (Visiteurs, Les) (1993)'),\n",
       " (1.4117138457067737, 894, 'Home Alone 3 (1997)'),\n",
       " (1.3835438915778204, 767, 'Addiction, The (1995)'),\n",
       " (1.3643550370722402, 375, 'Showgirls (1995)'),\n",
       " (1.3071360135377117, 247, 'Turbo: A Power Rangers Movie (1997)'),\n",
       " (1.2966527216669217, 1162, 'Phat Beach (1996)'),\n",
       " (1.2281507504447577, 352, 'Spice World (1997)'),\n",
       " (1.1659639772358847, 832, 'Bogus (1996)'),\n",
       " (1.163788981632698, 424, 'Children of the Corn: The Gathering (1996)'),\n",
       " (1.032421424343669, 314, '3 Ninjas: High Noon At Mega Mountain (1998)'),\n",
       " (1, 1621, 'Butterfly Kiss (1995)'),\n",
       " (1, 1609, 'B*A*P*S (1997)'),\n",
       " (1, 1376, 'Meet Wally Sparks (1997)'),\n",
       " (1, 1337, 'Larger Than Life (1996)'),\n",
       " (1, 1319, 'Neon Bible, The (1995)'),\n",
       " (1, 1304, 'New York Cop (1996)')]"
      ]
     },
     "execution_count": 7,
     "metadata": {},
     "output_type": "execute_result"
    }
   ],
   "source": [
    "show_movie_ratings(get_recs(algo,277)[-20:])"
   ]
  },
  {
   "cell_type": "markdown",
   "metadata": {},
   "source": [
    "### Item based Nearest Neighbours"
   ]
  },
  {
   "cell_type": "code",
   "execution_count": 8,
   "metadata": {},
   "outputs": [
    {
     "name": "stdout",
     "output_type": "stream",
     "text": [
      "Estimating biases using als...\n",
      "Computing the pearson_baseline similarity matrix...\n",
      "Done computing similarity matrix.\n",
      "RMSE: 0.9176\n"
     ]
    },
    {
     "data": {
      "text/plain": [
       "[(5, 1653, 'Entertaining Angels: The Dorothy Day Story (1996)'),\n",
       " (5, 1642, \"Some Mother's Son (1996)\"),\n",
       " (5, 1599, \"Someone Else's America (1995)\"),\n",
       " (5, 1536, 'Aiqing wansui (1994)'),\n",
       " (5, 1449, 'Pather Panchali (1955)'),\n",
       " (5, 1358, 'The Deadly Cure (1996)'),\n",
       " (5, 1293, 'Star Kid (1997)'),\n",
       " (5, 1201, 'Marlene Dietrich: Shadow and Light (1996) '),\n",
       " (5, 1122, 'They Made Me a Criminal (1939)'),\n",
       " (5, 814, 'Great Day in Harlem, A (1994)'),\n",
       " (4.856148491879351, 1500, 'Santa with Muscles (1996)'),\n",
       " (4.784403669724771, 1443, '8 Seconds (1994)'),\n",
       " (4.759615384615385, 1431, 'Legal Deceit (1997)'),\n",
       " (4.7492718658936495, 318, \"Schindler's List (1993)\"),\n",
       " (4.578611131291662, 64, 'Shawshank Redemption, The (1994)'),\n",
       " (4.518272098507291, 1398, 'Anna (1996)'),\n",
       " (4.5, 1463, 'Boys, Les (1997)'),\n",
       " (4.461843054035858, 286, 'English Patient, The (1996)'),\n",
       " (4.457526695675112, 1233, 'Nénette et Boni (1996)'),\n",
       " (4.456107028051363, 1388, 'Gabbeh (1996)')]"
      ]
     },
     "execution_count": 8,
     "metadata": {},
     "output_type": "execute_result"
    }
   ],
   "source": [
    "algo = KNNWithMeans(k=50, sim_options={'name': 'pearson_baseline', 'user_based': False})\n",
    "algo.fit(trainset)\n",
    "predictions = algo.test(testset)\n",
    "\n",
    "accuracy.rmse(predictions, verbose=True)\n",
    "\n",
    "show_movie_ratings(get_recs(algo,277)[:20])"
   ]
  },
  {
   "cell_type": "code",
   "execution_count": 9,
   "metadata": {},
   "outputs": [
    {
     "data": {
      "text/plain": [
       "[\"Breakfast at Tiffany's (1961)\",\n",
       " 'City of Angels (1998)',\n",
       " 'Leaving Las Vegas (1995)',\n",
       " 'Abyss, The (1989)',\n",
       " 'Exit to Eden (1994)',\n",
       " 'Good, The Bad and The Ugly, The (1966)',\n",
       " 'Clerks (1994)',\n",
       " 'Rumble in the Bronx (1995)',\n",
       " 'Lone Star (1996)',\n",
       " \"City Slickers II: The Legend of Curly's Gold (1994)\"]"
      ]
     },
     "execution_count": 9,
     "metadata": {},
     "output_type": "execute_result"
    }
   ],
   "source": [
    "list(map(lambda x: movies.get(x,x), algo.get_neighbors(1536,10)))"
   ]
  },
  {
   "cell_type": "markdown",
   "metadata": {},
   "source": [
    "## SVD - Singular Value Decomposition\n",
    "\n",
    "Famously used in Netflix Challenge\n",
    "\n",
    "Matrix decomposition, also known as matrix factorization, involves describing a given matrix using its constituent elements.\n",
    "calculated via iterative numerical methods\n",
    "\n",
    "SVD is a matrix factorization technique that is usually used to reduce the number of features of a data set by reducing space dimensions from N to K where K < N. \n",
    "\n",
    "\n",
    "\n",
    "\n",
    "\n",
    "### Reading\n",
    "http://nicolas-hug.com/blog/matrix_facto_3\n",
    "http://nicolas-hug.com/blog/matrix_facto_4\n",
    "\n"
   ]
  },
  {
   "cell_type": "code",
   "execution_count": 10,
   "metadata": {},
   "outputs": [
    {
     "name": "stdout",
     "output_type": "stream",
     "text": [
      "[[1 2]\n",
      " [3 4]\n",
      " [5 6]]\n",
      "[[-0.2298477   0.88346102  0.40824829]\n",
      " [-0.52474482  0.24078249 -0.81649658]\n",
      " [-0.81964194 -0.40189603  0.40824829]]\n",
      "[9.52551809 0.51430058]\n",
      "[[-0.61962948 -0.78489445]\n",
      " [-0.78489445  0.61962948]]\n"
     ]
    }
   ],
   "source": [
    "# https://machinelearningmastery.com/singular-value-decomposition-for-machine-learning/\n",
    "from numpy import array\n",
    "from scipy.linalg import svd\n",
    "A = array([[1, 2], [3, 4], [5, 6]])\n",
    "print(A)\n",
    "U, s, VT = svd(A)\n",
    "print(U)\n",
    "print(s)\n",
    "print(VT)"
   ]
  },
  {
   "cell_type": "markdown",
   "metadata": {},
   "source": [
    "## But how does this help us?\n",
    "\n",
    "The matrix factorization is done on the user-item ratings matrix. \n",
    "\n",
    "From a high level, matrix factorization can be thought of as finding 2 matrices whose product is the original matrix.\n",
    "\n",
    "We are after an ideal matrix with all the recommendations filled in.\n",
    "\n",
    "Find it using stochastic gradient descent.\n"
   ]
  },
  {
   "cell_type": "code",
   "execution_count": 11,
   "metadata": {},
   "outputs": [
    {
     "name": "stdout",
     "output_type": "stream",
     "text": [
      "RMSE: 0.9330\n"
     ]
    },
    {
     "data": {
      "text/plain": [
       "[(4.577048623202934, 408, 'Close Shave, A (1995)'),\n",
       " (4.36828521280946, 169, 'Wrong Trousers, The (1993)'),\n",
       " (4.339024843672453,\n",
       "  114,\n",
       "  'Wallace & Gromit: The Best of Aardman Animation (1996)'),\n",
       " (4.3288606652826855, 483, 'Casablanca (1942)'),\n",
       " (4.316161635804153, 657, 'Manchurian Candidate, The (1962)'),\n",
       " (4.2854688052854595, 134, 'Citizen Kane (1941)'),\n",
       " (4.272662237636945, 479, 'Vertigo (1958)'),\n",
       " (4.270542491791574, 187, 'Godfather: Part II, The (1974)'),\n",
       " (4.251994338828015, 603, 'Rear Window (1954)'),\n",
       " (4.239306250950143, 64, 'Shawshank Redemption, The (1994)'),\n",
       " (4.232729819802418, 641, 'Paths of Glory (1957)'),\n",
       " (4.224028901690533, 318, \"Schindler's List (1993)\"),\n",
       " (4.207139305671184, 285, 'Secrets & Lies (1996)'),\n",
       " (4.205647517607904, 178, '12 Angry Men (1957)'),\n",
       " (4.204854469925412, 515, 'Boot, Das (1981)'),\n",
       " (4.203581002429655, 513, 'Third Man, The (1949)'),\n",
       " (4.1920480714218185, 923, 'Raise the Red Lantern (1991)'),\n",
       " (4.180846552216582, 511, 'Lawrence of Arabia (1962)'),\n",
       " (4.180235452906456, 127, 'Godfather, The (1972)'),\n",
       " (4.1742571368357115, 12, 'Usual Suspects, The (1995)')]"
      ]
     },
     "execution_count": 11,
     "metadata": {},
     "output_type": "execute_result"
    }
   ],
   "source": [
    "algo = SVD(n_factors = 20)\n",
    "algo.fit(trainset)\n",
    "predictions = algo.test(testset)\n",
    "\n",
    "accuracy.rmse(predictions, verbose=True)\n",
    "\n",
    "show_movie_ratings(get_recs(algo,277)[:20])\n"
   ]
  },
  {
   "cell_type": "code",
   "execution_count": 12,
   "metadata": {},
   "outputs": [
    {
     "name": "stdout",
     "output_type": "stream",
     "text": [
      "RMSE: 0.9327\n"
     ]
    },
    {
     "data": {
      "text/plain": [
       "[(4.374586458756627, 408, 'Close Shave, A (1995)'),\n",
       " (4.368236257502689, 603, 'Rear Window (1954)'),\n",
       " (4.352468289588259, 64, 'Shawshank Redemption, The (1994)'),\n",
       " (4.306744432535693, 169, 'Wrong Trousers, The (1993)'),\n",
       " (4.302838253600799, 318, \"Schindler's List (1993)\"),\n",
       " (4.280239471782148, 483, 'Casablanca (1942)'),\n",
       " (4.276697771416615, 12, 'Usual Suspects, The (1995)'),\n",
       " (4.255221349984832, 515, 'Boot, Das (1981)'),\n",
       " (4.252198037459238, 480, 'North by Northwest (1959)'),\n",
       " (4.2462052864694755, 513, 'Third Man, The (1949)'),\n",
       " (4.227238588632585,\n",
       "  114,\n",
       "  'Wallace & Gromit: The Best of Aardman Animation (1996)'),\n",
       " (4.210464789636268, 357, \"One Flew Over the Cuckoo's Nest (1975)\"),\n",
       " (4.195595994279022, 427, 'To Kill a Mockingbird (1962)'),\n",
       " (4.195401314756337, 657, 'Manchurian Candidate, The (1962)'),\n",
       " (4.195168941694706, 641, 'Paths of Glory (1957)'),\n",
       " (4.194643998617053, 170, 'Cinema Paradiso (1988)'),\n",
       " (4.16851463893154, 178, '12 Angry Men (1957)'),\n",
       " (4.167900665863122, 187, 'Godfather: Part II, The (1974)'),\n",
       " (4.16022096532157, 479, 'Vertigo (1958)'),\n",
       " (4.156033092203596, 272, 'Good Will Hunting (1997)')]"
      ]
     },
     "execution_count": 12,
     "metadata": {},
     "output_type": "execute_result"
    }
   ],
   "source": [
    "algo = SVD(n_factors = 10)\n",
    "algo.fit(trainset)\n",
    "predictions = algo.test(testset)\n",
    "\n",
    "accuracy.rmse(predictions, verbose=True)\n",
    "\n",
    "show_movie_ratings(get_recs(algo,277)[:20])\n"
   ]
  },
  {
   "cell_type": "code",
   "execution_count": null,
   "metadata": {},
   "outputs": [],
   "source": []
  }
 ],
 "metadata": {
  "kernelspec": {
   "display_name": "Python 3",
   "language": "python",
   "name": "python3"
  },
  "language_info": {
   "codemirror_mode": {
    "name": "ipython",
    "version": 3
   },
   "file_extension": ".py",
   "mimetype": "text/x-python",
   "name": "python",
   "nbconvert_exporter": "python",
   "pygments_lexer": "ipython3",
   "version": "3.6.8"
  }
 },
 "nbformat": 4,
 "nbformat_minor": 2
}
