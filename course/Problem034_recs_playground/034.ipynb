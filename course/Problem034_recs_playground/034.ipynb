{
  "nbformat": 4,
  "nbformat_minor": 0,
  "metadata": {
    "colab": {
      "name": "Untitled7.ipynb",
      "provenance": [],
      "authorship_tag": "ABX9TyM2Yp4UlitsnN3sWvVX5plB",
      "include_colab_link": true
    },
    "kernelspec": {
      "name": "python3",
      "display_name": "Python 3"
    }
  },
  "cells": [
    {
      "cell_type": "markdown",
      "metadata": {
        "id": "view-in-github",
        "colab_type": "text"
      },
      "source": [
        "<a href=\"https://colab.research.google.com/github/wrwills/pml/blob/master/course/Problem034_recs_playground/034.ipynb\" target=\"_parent\"><img src=\"https://colab.research.google.com/assets/colab-badge.svg\" alt=\"Open In Colab\"/></a>"
      ]
    },
    {
      "cell_type": "markdown",
      "metadata": {
        "id": "_Z5T9RVjVKuX"
      },
      "source": [
        "# Let's have a play"
      ]
    },
    {
      "cell_type": "code",
      "metadata": {
        "colab": {
          "base_uri": "https://localhost:8080/"
        },
        "id": "2zfYc-yVTL1J",
        "outputId": "94518e85-e9d4-49db-a4b7-07edafce9797"
      },
      "source": [
        "!pip install surprise"
      ],
      "execution_count": 4,
      "outputs": [
        {
          "output_type": "stream",
          "text": [
            "Collecting surprise\n",
            "  Downloading https://files.pythonhosted.org/packages/61/de/e5cba8682201fcf9c3719a6fdda95693468ed061945493dea2dd37c5618b/surprise-0.1-py2.py3-none-any.whl\n",
            "Collecting scikit-surprise\n",
            "\u001b[?25l  Downloading https://files.pythonhosted.org/packages/97/37/5d334adaf5ddd65da99fc65f6507e0e4599d092ba048f4302fe8775619e8/scikit-surprise-1.1.1.tar.gz (11.8MB)\n",
            "\u001b[K     |████████████████████████████████| 11.8MB 5.3MB/s \n",
            "\u001b[?25hRequirement already satisfied: joblib>=0.11 in /usr/local/lib/python3.6/dist-packages (from scikit-surprise->surprise) (1.0.0)\n",
            "Requirement already satisfied: numpy>=1.11.2 in /usr/local/lib/python3.6/dist-packages (from scikit-surprise->surprise) (1.19.5)\n",
            "Requirement already satisfied: scipy>=1.0.0 in /usr/local/lib/python3.6/dist-packages (from scikit-surprise->surprise) (1.4.1)\n",
            "Requirement already satisfied: six>=1.10.0 in /usr/local/lib/python3.6/dist-packages (from scikit-surprise->surprise) (1.15.0)\n",
            "Building wheels for collected packages: scikit-surprise\n",
            "  Building wheel for scikit-surprise (setup.py) ... \u001b[?25l\u001b[?25hdone\n",
            "  Created wheel for scikit-surprise: filename=scikit_surprise-1.1.1-cp36-cp36m-linux_x86_64.whl size=1618266 sha256=833f44de3cc1ba70ca9e5f9233e602b9edd2e535eba6dfb1ecb4f2f2e293bd46\n",
            "  Stored in directory: /root/.cache/pip/wheels/78/9c/3d/41b419c9d2aff5b6e2b4c0fc8d25c538202834058f9ed110d0\n",
            "Successfully built scikit-surprise\n",
            "Installing collected packages: scikit-surprise, surprise\n",
            "Successfully installed scikit-surprise-1.1.1 surprise-0.1\n"
          ],
          "name": "stdout"
        }
      ]
    },
    {
      "cell_type": "code",
      "metadata": {
        "id": "dnT663NrTBds"
      },
      "source": [
        "from surprise import SVD\n",
        "from surprise import Dataset\n",
        "\n",
        "from surprise import SVD\n",
        "from surprise import KNNWithMeans\n",
        "from surprise import Dataset\n",
        "from surprise.model_selection import cross_validate\n",
        "from surprise.model_selection import train_test_split\n",
        "from surprise import accuracy\n",
        "\n",
        "import csv\n",
        "\n",
        "data = Dataset.load_builtin('ml-100k')\n",
        "\n",
        "def get_movies():\n",
        "    movies = {}\n",
        "    with open(data.ratings_file.replace(\"u.data\",\"u.item\"), 'r', encoding = \"ISO-8859-1\") as csvfile:\n",
        "        moviesreader = csv.reader(csvfile, delimiter='|')\n",
        "        for row in moviesreader:\n",
        "            movies[int(row[0])] = row[1]\n",
        "    return movies\n",
        "\n",
        "def get_recs(algo,uid):\n",
        "    recs = []\n",
        "    for item in algo.trainset.all_items():\n",
        "        pred = algo.predict(str(uid), str(item))\n",
        "        recs.append((pred.est,item))\n",
        "    recs.sort(reverse = True)\n",
        "    return recs\n",
        "\n",
        "def top_recs(i,recs):\n",
        "    return list(map(lambda x: (x[0],movies[x[1]]), recs[:10]))\n",
        "\n",
        "def get_ratings_by_user(uid):\n",
        "    ratings = list(map(lambda x: tuple(reversed(x)), trainset.ur[uid]))\n",
        "    ratings.sort(reverse = True)\n",
        "    return ratings\n",
        "\n",
        "def show_movie_ratings(ratings):\n",
        "    return list(map(lambda x: (x[0],x[1],movies.get(x[1],x[1])), ratings))"
      ],
      "execution_count": 6,
      "outputs": []
    },
    {
      "cell_type": "code",
      "metadata": {
        "id": "Yqeum7x-UE7w"
      },
      "source": [
        "movies = get_movies()\n",
        "trainset, testset = train_test_split(data, test_size=.15)"
      ],
      "execution_count": 9,
      "outputs": []
    },
    {
      "cell_type": "code",
      "metadata": {
        "colab": {
          "base_uri": "https://localhost:8080/"
        },
        "id": "rElODORpT8gc",
        "outputId": "cacac503-e39c-4e61-d826-b8cf0b1bc9e6"
      },
      "source": [
        "algo = KNNWithMeans(k=50, sim_options={'name': 'pearson_baseline', 'user_based': True})\n",
        "#algo = KNNWithMeans(k=50, sim_options={'name': 'cosine', 'user_based': True})\n",
        "\n",
        "algo.fit(trainset)\n",
        "# now we can test predictions from the model against our testset\n",
        "predictions = algo.test(testset)\n",
        "\n",
        "# and we can test against test data\n",
        "# mse -- mean sqare error\n",
        "# rmse  -- root mean square error\n",
        "# - how close fitted line is to data points\n",
        "\n",
        "accuracy.rmse(predictions, verbose=True)"
      ],
      "execution_count": 10,
      "outputs": [
        {
          "output_type": "stream",
          "text": [
            "Estimating biases using als...\n",
            "Computing the pearson_baseline similarity matrix...\n",
            "Done computing similarity matrix.\n",
            "RMSE: 0.9420\n"
          ],
          "name": "stdout"
        },
        {
          "output_type": "execute_result",
          "data": {
            "text/plain": [
              "0.9420274382573778"
            ]
          },
          "metadata": {
            "tags": []
          },
          "execution_count": 10
        }
      ]
    },
    {
      "cell_type": "code",
      "metadata": {
        "colab": {
          "base_uri": "https://localhost:8080/"
        },
        "id": "hm86CCbsVS22",
        "outputId": "ae0ee7f6-71b7-4f99-b3fc-4ae1b9159007"
      },
      "source": [
        "algo = SVD(n_factors = 20)\n",
        "algo.fit(trainset)\n",
        "predictions = algo.test(testset)\n",
        "\n",
        "accuracy.rmse(predictions, verbose=True)\n"
      ],
      "execution_count": 12,
      "outputs": [
        {
          "output_type": "stream",
          "text": [
            "RMSE: 0.9414\n"
          ],
          "name": "stdout"
        },
        {
          "output_type": "execute_result",
          "data": {
            "text/plain": [
              "0.9414295071526064"
            ]
          },
          "metadata": {
            "tags": []
          },
          "execution_count": 12
        }
      ]
    }
  ]
}